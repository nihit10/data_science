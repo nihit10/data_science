{
 "cells": [
  {
   "cell_type": "markdown",
   "metadata": {},
   "source": [
    "\n",
    "# Variance And Standard Deviation"
   ]
  },
  {
   "cell_type": "markdown",
   "metadata": {},
   "source": [
    "Import Preliminary"
   ]
  },
  {
   "cell_type": "code",
   "execution_count": 1,
   "metadata": {},
   "outputs": [],
   "source": [
    "#import math for mathematical stuff\n",
    "import math"
   ]
  },
  {
   "cell_type": "markdown",
   "metadata": {},
   "source": [
    "Create data"
   ]
  },
  {
   "cell_type": "code",
   "execution_count": 2,
   "metadata": {},
   "outputs": [],
   "source": [
    "# Create list of values\n",
    "data = [3,2,3,4,2,3,5,2,2,33,3,5,2,2,5,6,62,2,2,3,6,6,2,23,3,2,3]"
   ]
  },
  {
   "cell_type": "markdown",
   "metadata": {},
   "source": [
    "Calculate Population Variance"
   ]
  },
  {
   "cell_type": "markdown",
   "metadata": {},
   "source": [
    "\\begin{equation*}\n",
    "Population Variance = S_n^2\\frac{1}{n}\\prod_{i=1}^{n}(x_i-\\frac{}{x})^2\n",
    "\\end{equation*}\n"
   ]
  },
  {
   "cell_type": "markdown",
   "metadata": {},
   "source": [
    "\n",
    "\\begin{equation*}\n",
    "Sample Variance = S_{n-1}^2\\frac{1}{n-1}\\prod_{i=1}^{n}(x_i-\\frac{}{x})^2\n",
    "\\end{equation*}"
   ]
  },
  {
   "cell_type": "code",
   "execution_count": 17,
   "metadata": {},
   "outputs": [
    {
     "name": "stdout",
     "output_type": "stream",
     "text": [
      "Population variance:  160.78463648834017\n",
      "Sample Variance:  166.96866096866094\n"
     ]
    }
   ],
   "source": [
    "# Calculate n\n",
    "n = len(data)\n",
    "\n",
    "# Calculate the mean\n",
    "mean = sum(data)/len(data)\n",
    "\n",
    "# Create a list for all deviations from the mean\n",
    "all_deviations_from_mean_squared = []\n",
    "\n",
    "# For each observation in the data\n",
    "for observation in data:\n",
    "    \n",
    "    # Calculate the deviation from the mean\n",
    "    deviation_from_mean = (observation - mean)\n",
    "    \n",
    "    # Square it\n",
    "    deviation_from_mean_squared = deviation_from_mean**2\n",
    "    \n",
    "    # Add the result to our list\n",
    "    all_deviations_from_mean_squared.append(deviation_from_mean_squared)\n",
    "\n",
    "# Sum all the squared deviations in our list    \n",
    "sum_of_deviations_from_mean_squared = sum(all_deviations_from_mean_squared)\n",
    "\n",
    "# Divide by n\n",
    "population_variance = sum_of_deviations_from_mean_squared/n\n",
    "\n",
    "\n",
    "# Divide by n-1 for sample variance\n",
    "sample_variance = sum_of_deviations_from_mean_squared/(n-1)\n",
    "\n",
    "# Show variance\n",
    "print(\"Population variance: \",population_variance)\n",
    "print(\"Sample Variance: \",sample_variance)"
   ]
  },
  {
   "cell_type": "markdown",
   "metadata": {},
   "source": [
    "Calculate Population/Sample Standard Deviation"
   ]
  },
  {
   "cell_type": "code",
   "execution_count": 16,
   "metadata": {},
   "outputs": [
    {
     "name": "stdout",
     "output_type": "stream",
     "text": [
      "Population Standard Deviation:  12.68008818929664\n",
      "Sample Standard Deviation: 12.921635382901846\n"
     ]
    }
   ],
   "source": [
    "# Find the square root of the population variance\n",
    "population_standard_deviation = math.sqrt(population_variance)\n",
    "\n",
    "# Find the square root of the sample variance\n",
    "sample_standard_deviation = math.sqrt(sample_variance)\n",
    "\n",
    "# Print the populaton and sample standard deviation\n",
    "print(\"Population Standard Deviation: \",population_standard_deviation)\n",
    "print(\"Sample Standard Deviation:\",sample_standard_deviation)"
   ]
  },
  {
   "cell_type": "code",
   "execution_count": null,
   "metadata": {},
   "outputs": [],
   "source": []
  }
 ],
 "metadata": {
  "kernelspec": {
   "display_name": "Python 3",
   "language": "python",
   "name": "python3"
  },
  "language_info": {
   "codemirror_mode": {
    "name": "ipython",
    "version": 3
   },
   "file_extension": ".py",
   "mimetype": "text/x-python",
   "name": "python",
   "nbconvert_exporter": "python",
   "pygments_lexer": "ipython3",
   "version": "3.6.5"
  }
 },
 "nbformat": 4,
 "nbformat_minor": 2
}
