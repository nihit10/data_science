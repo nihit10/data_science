{
 "cells": [
  {
   "cell_type": "markdown",
   "metadata": {},
   "source": [
    "# This algorithms is applied to Simple NLP"
   ]
  },
  {
   "cell_type": "markdown",
   "metadata": {},
   "source": [
    "Import the preliminaries"
   ]
  },
  {
   "cell_type": "code",
   "execution_count": 8,
   "metadata": {},
   "outputs": [],
   "source": [
    "import numpy as np\n",
    "import pandas as pd\n",
    "from collections import Counter\n",
    "import matplotlib.pyplot as plt\n"
   ]
  },
  {
   "cell_type": "markdown",
   "metadata": {},
   "source": [
    "lets create small data set"
   ]
  },
  {
   "cell_type": "code",
   "execution_count": 3,
   "metadata": {},
   "outputs": [],
   "source": [
    "data = pd.DataFrame()\n",
    "data['text'] = [\"Barca paly well\", \"Obama is great politician\", \"foolball is the famous game\", \"this game was not fair\", \"caffine to code\"]\n",
    "data[\"tag\"]= [\"Sports\", \"Not Sports\", \"Sports\",\"Sports\" ,\"Not Sports\", ]"
   ]
  },
  {
   "cell_type": "code",
   "execution_count": 4,
   "metadata": {},
   "outputs": [
    {
     "data": {
      "text/html": [
       "<div>\n",
       "<style scoped>\n",
       "    .dataframe tbody tr th:only-of-type {\n",
       "        vertical-align: middle;\n",
       "    }\n",
       "\n",
       "    .dataframe tbody tr th {\n",
       "        vertical-align: top;\n",
       "    }\n",
       "\n",
       "    .dataframe thead th {\n",
       "        text-align: right;\n",
       "    }\n",
       "</style>\n",
       "<table border=\"1\" class=\"dataframe\">\n",
       "  <thead>\n",
       "    <tr style=\"text-align: right;\">\n",
       "      <th></th>\n",
       "      <th>text</th>\n",
       "      <th>tag</th>\n",
       "    </tr>\n",
       "  </thead>\n",
       "  <tbody>\n",
       "    <tr>\n",
       "      <th>0</th>\n",
       "      <td>Barca paly well</td>\n",
       "      <td>Sports</td>\n",
       "    </tr>\n",
       "    <tr>\n",
       "      <th>1</th>\n",
       "      <td>Obama is great politician</td>\n",
       "      <td>Not Sports</td>\n",
       "    </tr>\n",
       "    <tr>\n",
       "      <th>2</th>\n",
       "      <td>foolball is the famous game</td>\n",
       "      <td>Sports</td>\n",
       "    </tr>\n",
       "    <tr>\n",
       "      <th>3</th>\n",
       "      <td>this game was not fair</td>\n",
       "      <td>Sports</td>\n",
       "    </tr>\n",
       "    <tr>\n",
       "      <th>4</th>\n",
       "      <td>caffine to code</td>\n",
       "      <td>Not Sports</td>\n",
       "    </tr>\n",
       "  </tbody>\n",
       "</table>\n",
       "</div>"
      ],
      "text/plain": [
       "                          text         tag\n",
       "0              Barca paly well      Sports\n",
       "1    Obama is great politician  Not Sports\n",
       "2  foolball is the famous game      Sports\n",
       "3       this game was not fair      Sports\n",
       "4              caffine to code  Not Sports"
      ]
     },
     "execution_count": 4,
     "metadata": {},
     "output_type": "execute_result"
    }
   ],
   "source": [
    "data"
   ]
  },
  {
   "cell_type": "markdown",
   "metadata": {},
   "source": [
    "Lets see the sentence \"that was the unforgetable game\""
   ]
  },
  {
   "cell_type": "markdown",
   "metadata": {},
   "source": [
    "1. We want to calculate the probaility that the sentence \"that was unforgetable game\" is \"Sports\" and the probability that it's \"Not Sports\"\n",
    "\n",
    "\n",
    "2. Written mathematically, what we want is P(Sports|that was the unforgetable game) the probability that the tag of a sentence is Sports given that the sentence is \"that was an unforgetable game\""
   ]
  },
  {
   "cell_type": "markdown",
   "metadata": {},
   "source": [
    "# Feature Engineering"
   ]
  },
  {
   "cell_type": "markdown",
   "metadata": {},
   "source": [
    "We call features the pieces of information that we take from the text give to the algorithm so it can work its magic.\n",
    "\n",
    "For example, if we were doing classification on health, some features could be a person’s height, weight, gender, and so on. We would exclude things that maybe are known but aren’t useful to the model, like a person’s name or favorite color.\n",
    "\n",
    "In this case though, we don’t even have numeric features. We just have text. We need to somehow convert this text into numbers that we can do calculations on."
   ]
  },
  {
   "cell_type": "markdown",
   "metadata": {},
   "source": [
    "In our case, we can use word frequencies. That is, we ignore word order and sentence construction, treating every document as a set of the words it contains."
   ]
  },
  {
   "cell_type": "markdown",
   "metadata": {},
   "source": [
    "# Navie Bayees"
   ]
  },
  {
   "cell_type": "markdown",
   "metadata": {},
   "source": [
    "## 1. Bayees' Theorem"
   ]
  },
  {
   "cell_type": "markdown",
   "metadata": {},
   "source": [
    "\\begin{equation*}\n",
    "P(A|B) =\\frac{P(B|A)*P(A)}{P(B)}\n",
    "\\end{equation*}\n",
    "\n",
    "\n",
    "In our case:\n",
    "\n",
    "\\begin{equation*}\n",
    "P(sports|that\\ was\\ unforgettable\\ game) =\\frac{P(that\\ was\\ the\\ unforgettable\\ game|sports)*P(sports)}{P(that\\ was\\ unforgettable\\ game)}\n",
    "\\end{equation*}\n",
    "\n",
    "\n",
    "In our classifier we're just trying to find out which tag has a bigger probability, er can discard the divisor - which is the same for both tags - and just compare\n",
    "\n",
    "\n",
    "\\begin{equation*}\n",
    "P(that\\ was\\ the\\ unforgettable\\ game|Sports)*P(Sports)\n",
    "\\end{equation*}\n",
    "\n",
    "with\n",
    "\n",
    "\n",
    "\\begin{equation*}\n",
    "P(that\\ was\\ the\\ unforgettable\\ game|Not\\ Sports)*P(sports)\n",
    "\\end{equation*}"
   ]
  },
  {
   "cell_type": "markdown",
   "metadata": {},
   "source": [
    "This is better, since we could actually calculate these probabilities! Just count how many times the sentence “A very close game” appears in the Sports tag, divide it by the total, and obtain \\begin{equation*}\n",
    "P(that\\ was\\ the\\ unforgettable\\ game|Not\\ Sports)*P(sports)\n",
    "\\end{equation*}\n",
    "\n",
    "\n",
    "\n",
    "There’s a problem though: “that was the unforgettable game” doesn’t appear in our training data, so this probability is zero. Unless every sentence that we want to classify appears in our training data, the model won’t be very useful."
   ]
  },
  {
   "cell_type": "markdown",
   "metadata": {},
   "source": [
    "## 2. Navie"
   ]
  },
  {
   "cell_type": "markdown",
   "metadata": {},
   "source": [
    "In navie, we assume that every word in a sentence is independent of the prther ones. This means that we're no longer looking at entire sentences, but rather at individual words. So for our purposes, \"this was a fun party\" is the same as \"this party was fun\" and \"party fun was this\"\n",
    "\n",
    "\n",
    "We wrire this as:\n",
    "\n",
    "\\begin{equation*}\n",
    "P(that\\ was\\ the\\ unforgettable\\ game) = P(that)*P(was)*P(the)*P(unforgettable)*P(game)\n",
    "\\end{equation*}"
   ]
  },
  {
   "cell_type": "markdown",
   "metadata": {},
   "source": [
    "Therefore:\n",
    "    \n",
    "\\begin{equation*}\n",
    "P(that\\ was\\ the\\ unforgettable\\ game|Sports) = P(that|Sports)∗P(was|Sports)∗P(the|Sports)∗P(unforgettable|Sports)*P(game|Sports)\n",
    "\\end{equation*}\n",
    "\n",
    "\n",
    "And now, all of these individual words actually show up several times in our training sata, and we can calculate them!"
   ]
  },
  {
   "cell_type": "markdown",
   "metadata": {},
   "source": [
    "## 3. Calculating probabilities"
   ]
  },
  {
   "cell_type": "markdown",
   "metadata": {},
   "source": [
    "Calculating a probability is just counting in our training our training data\n",
    "\n",
    "\n",
    "1. Calculate the priori probability i.e P(Sports) and P(Not Sports)"
   ]
  },
  {
   "cell_type": "code",
   "execution_count": 5,
   "metadata": {},
   "outputs": [],
   "source": [
    "test_text = \"that was the unforgetable game\""
   ]
  },
  {
   "cell_type": "code",
   "execution_count": 6,
   "metadata": {},
   "outputs": [],
   "source": [
    "number_of_sports_occurence = data['tag'][data['tag']=='Sports'].count()\n",
    "number_of_not_sports_occurence = data['tag'][data['tag']=='Not Sports'].count()\n",
    "total_occurence_of_tag = data['tag'].count()"
   ]
  },
  {
   "cell_type": "code",
   "execution_count": 7,
   "metadata": {},
   "outputs": [],
   "source": [
    "p_sports = number_of_sports_occurence / total_occurence_of_tag\n",
    "p_not_sports = number_of_not_sports_occurence / total_occurence_of_tag"
   ]
  },
  {
   "cell_type": "code",
   "execution_count": 8,
   "metadata": {},
   "outputs": [
    {
     "name": "stdout",
     "output_type": "stream",
     "text": [
      "number_of_sports_occurence:  3\n",
      "number_of_not_sports_occurence:  2\n",
      "total_occurence_of_tag:  5\n",
      "\n",
      "p_sports:  0.6\n",
      "p_not_sports:  0.4\n"
     ]
    }
   ],
   "source": [
    "print(\"number_of_sports_occurence: \", number_of_sports_occurence)\n",
    "print(\"number_of_not_sports_occurence: \", number_of_not_sports_occurence)\n",
    "print(\"total_occurence_of_tag: \", total_occurence_of_tag)\n",
    "print()\n",
    "print(\"p_sports: \", p_sports)\n",
    "print(\"p_not_sports: \", p_not_sports)"
   ]
  },
  {
   "cell_type": "markdown",
   "metadata": {},
   "source": [
    "Remember our livlihood:\n",
    "    \n",
    "\\begin{equation*}\n",
    "P(that\\ was\\ unforgettable\\ game|Sports)*P(Sports)\n",
    "\\end{equation*}\n",
    "\n",
    "with\n",
    "\n",
    "\n",
    "\\begin{equation*}\n",
    "P(that\\ was\\ unforgettable\\ game|Not\\ Sports)*P(sports)\n",
    "\\end{equation*}\n",
    "    "
   ]
  },
  {
   "cell_type": "markdown",
   "metadata": {},
   "source": [
    "Navie sugegests this as:\n",
    "    \\begin{equation*}\n",
    "P(that\\ was\\ the\\ unforgettable\\ game) = P(that)*P(was)*P(the)*P(unforgettable)*P(game)\n",
    "\\end{equation*}\n",
    "\n",
    "and \n",
    "\n",
    "\n",
    "    \n",
    "\\begin{equation*}\n",
    "P(that\\ was\\ the\\ unforgettable\\ game|Sports) = P(that|Sports)∗P(was|Sports)∗P(the|Sports)∗P(unforgettable|Sports)*P(game|Sports)\n",
    "\\end{equation*}\n",
    "\n",
    "\n",
    ",\n",
    "\n",
    "\\begin{equation*}\n",
    "P(that\\ was\\ the\\ unforgettable\\ game|Not\\ Sports) = P(that|Not\\ Sports)∗P(was|Not\\ Sports)∗P(the|Not\\ Sports)∗P(unforgettable|Not\\ Sports)*P(game|Not\\ Sports)\n",
    "\\end{equation*}\n",
    "\n"
   ]
  },
  {
   "cell_type": "markdown",
   "metadata": {},
   "source": [
    "#### Here we have one issue:\n",
    "    In the given sentence, the words (that, was, unforgettable) does not fall in any of the tag"
   ]
  },
  {
   "cell_type": "markdown",
   "metadata": {},
   "source": [
    "#### To handel this we apply laplace something/ laplace esitimation"
   ]
  },
  {
   "cell_type": "markdown",
   "metadata": {},
   "source": [
    "We add 1 to every count so it’s never zero. To balance this, we add the number of possible words to the divisor, so the division will never be greater than 1."
   ]
  },
  {
   "cell_type": "code",
   "execution_count": 9,
   "metadata": {},
   "outputs": [
    {
     "name": "stdout",
     "output_type": "stream",
     "text": [
      "[('that', 1), ('was', 2), ('the', 2), ('unforgetable', 1), ('game', 3)]\n",
      "[('that', 1), ('was', 1), ('the', 1), ('unforgetable', 1), ('game', 1)]\n"
     ]
    }
   ],
   "source": [
    "all_word_in_text = [j for i in data[\"text\"] for j in i.split()]\n",
    "all_word_in_text_having_sports = [j for i in data[\"text\"][data['tag']==\"Sports\"] for j in i.split()]\n",
    "all_word_in_text_having_not_sports = [j for i in data[\"text\"][data['tag']==\"Not Sports\"] for j in i.split()]\n",
    "\n",
    "number_of_possible_words = len(all_word_in_text)\n",
    "number_of_words_having_sports = len(all_word_in_text_having_sports)\n",
    "number_of_words_having_not_sports = len(all_word_in_text_having_not_sports)\n",
    "\n",
    "\n",
    "p_sports_denominator = number_of_possible_words+number_of_words_having_sports\n",
    "p_not_sports_denominator = number_of_possible_words+number_of_words_having_not_sports\n",
    "\n",
    "\n",
    "occurence_of_all_word_having_sports = Counter(all_word_in_text_having_sports)\n",
    "occurence_of_all_word_having_not_sports = Counter(all_word_in_text_having_not_sports)\n",
    "\n",
    "\n",
    "observation = pd.DataFrame()\n",
    "observation['words'] = test_text.split()\n",
    "print([(word, occurence_of_all_word_having_sports.get(word, 0)+1) for word in observation[\"words\"]])\n",
    "\n",
    "print([(word, occurence_of_all_word_having_not_sports.get(word, 0)+1) for word in observation[\"words\"]])\n",
    "\n",
    "observation[\"p(word|Sports)\"] =[((occurence_of_all_word_having_sports.get(word,0)+ 1)/p_sports_denominator) for word in observation[\"words\"]]\n",
    "observation[\"p(word|Not Sports)\"] =[((occurence_of_all_word_having_not_sports.get(word,0)+1)/p_not_sports_denominator) for word in observation[\"words\"]]\n"
   ]
  },
  {
   "cell_type": "code",
   "execution_count": 10,
   "metadata": {},
   "outputs": [
    {
     "data": {
      "text/html": [
       "<div>\n",
       "<style scoped>\n",
       "    .dataframe tbody tr th:only-of-type {\n",
       "        vertical-align: middle;\n",
       "    }\n",
       "\n",
       "    .dataframe tbody tr th {\n",
       "        vertical-align: top;\n",
       "    }\n",
       "\n",
       "    .dataframe thead th {\n",
       "        text-align: right;\n",
       "    }\n",
       "</style>\n",
       "<table border=\"1\" class=\"dataframe\">\n",
       "  <thead>\n",
       "    <tr style=\"text-align: right;\">\n",
       "      <th></th>\n",
       "      <th>words</th>\n",
       "      <th>p(word|Sports)</th>\n",
       "      <th>p(word|Not Sports)</th>\n",
       "    </tr>\n",
       "  </thead>\n",
       "  <tbody>\n",
       "    <tr>\n",
       "      <th>0</th>\n",
       "      <td>that</td>\n",
       "      <td>0.030303</td>\n",
       "      <td>0.037037</td>\n",
       "    </tr>\n",
       "    <tr>\n",
       "      <th>1</th>\n",
       "      <td>was</td>\n",
       "      <td>0.060606</td>\n",
       "      <td>0.037037</td>\n",
       "    </tr>\n",
       "    <tr>\n",
       "      <th>2</th>\n",
       "      <td>the</td>\n",
       "      <td>0.060606</td>\n",
       "      <td>0.037037</td>\n",
       "    </tr>\n",
       "    <tr>\n",
       "      <th>3</th>\n",
       "      <td>unforgetable</td>\n",
       "      <td>0.030303</td>\n",
       "      <td>0.037037</td>\n",
       "    </tr>\n",
       "    <tr>\n",
       "      <th>4</th>\n",
       "      <td>game</td>\n",
       "      <td>0.090909</td>\n",
       "      <td>0.037037</td>\n",
       "    </tr>\n",
       "  </tbody>\n",
       "</table>\n",
       "</div>"
      ],
      "text/plain": [
       "          words  p(word|Sports)  p(word|Not Sports)\n",
       "0          that        0.030303            0.037037\n",
       "1           was        0.060606            0.037037\n",
       "2           the        0.060606            0.037037\n",
       "3  unforgetable        0.030303            0.037037\n",
       "4          game        0.090909            0.037037"
      ]
     },
     "execution_count": 10,
     "metadata": {},
     "output_type": "execute_result"
    }
   ],
   "source": [
    "observation"
   ]
  },
  {
   "cell_type": "code",
   "execution_count": 11,
   "metadata": {},
   "outputs": [],
   "source": [
    "sports = np.multiply.reduce(observation[\"p(word|Sports)\"])[0]*p_sports\n",
    "not_sports=  np.multiply.reduce(observation[\"p(word|Not Sports)\"])[0]*p_not_sports\n"
   ]
  },
  {
   "cell_type": "code",
   "execution_count": 12,
   "metadata": {},
   "outputs": [],
   "source": [
    "result = \"Sports\" if sports> not_sports else \"Not Sports\" "
   ]
  },
  {
   "cell_type": "code",
   "execution_count": 13,
   "metadata": {},
   "outputs": [
    {
     "data": {
      "text/html": [
       "<div>\n",
       "<style scoped>\n",
       "    .dataframe tbody tr th:only-of-type {\n",
       "        vertical-align: middle;\n",
       "    }\n",
       "\n",
       "    .dataframe tbody tr th {\n",
       "        vertical-align: top;\n",
       "    }\n",
       "\n",
       "    .dataframe thead th {\n",
       "        text-align: right;\n",
       "    }\n",
       "</style>\n",
       "<table border=\"1\" class=\"dataframe\">\n",
       "  <thead>\n",
       "    <tr style=\"text-align: right;\">\n",
       "      <th></th>\n",
       "      <th>text</th>\n",
       "      <th>tag</th>\n",
       "    </tr>\n",
       "  </thead>\n",
       "  <tbody>\n",
       "    <tr>\n",
       "      <th>0</th>\n",
       "      <td>Barca paly well</td>\n",
       "      <td>Sports</td>\n",
       "    </tr>\n",
       "    <tr>\n",
       "      <th>1</th>\n",
       "      <td>Obama is great politician</td>\n",
       "      <td>Not Sports</td>\n",
       "    </tr>\n",
       "    <tr>\n",
       "      <th>2</th>\n",
       "      <td>foolball is the famous game</td>\n",
       "      <td>Sports</td>\n",
       "    </tr>\n",
       "    <tr>\n",
       "      <th>3</th>\n",
       "      <td>this game was not fair</td>\n",
       "      <td>Sports</td>\n",
       "    </tr>\n",
       "    <tr>\n",
       "      <th>4</th>\n",
       "      <td>caffine to code</td>\n",
       "      <td>Not Sports</td>\n",
       "    </tr>\n",
       "    <tr>\n",
       "      <th>5</th>\n",
       "      <td>that was the unforgetable game</td>\n",
       "      <td>Sports</td>\n",
       "    </tr>\n",
       "  </tbody>\n",
       "</table>\n",
       "</div>"
      ],
      "text/plain": [
       "                             text         tag\n",
       "0                 Barca paly well      Sports\n",
       "1       Obama is great politician  Not Sports\n",
       "2     foolball is the famous game      Sports\n",
       "3          this game was not fair      Sports\n",
       "4                 caffine to code  Not Sports\n",
       "5  that was the unforgetable game      Sports"
      ]
     },
     "execution_count": 13,
     "metadata": {},
     "output_type": "execute_result"
    }
   ],
   "source": [
    "data.append(dict(zip(data.columns, [test_text, result])), ignore_index=True)"
   ]
  },
  {
   "cell_type": "code",
   "execution_count": 14,
   "metadata": {},
   "outputs": [
    {
     "data": {
      "text/html": [
       "<div>\n",
       "<style scoped>\n",
       "    .dataframe tbody tr th:only-of-type {\n",
       "        vertical-align: middle;\n",
       "    }\n",
       "\n",
       "    .dataframe tbody tr th {\n",
       "        vertical-align: top;\n",
       "    }\n",
       "\n",
       "    .dataframe thead th {\n",
       "        text-align: right;\n",
       "    }\n",
       "</style>\n",
       "<table border=\"1\" class=\"dataframe\">\n",
       "  <thead>\n",
       "    <tr style=\"text-align: right;\">\n",
       "      <th></th>\n",
       "      <th>text</th>\n",
       "      <th>tag</th>\n",
       "    </tr>\n",
       "  </thead>\n",
       "  <tbody>\n",
       "    <tr>\n",
       "      <th>0</th>\n",
       "      <td>Barca paly well</td>\n",
       "      <td>Sports</td>\n",
       "    </tr>\n",
       "    <tr>\n",
       "      <th>1</th>\n",
       "      <td>Obama is great politician</td>\n",
       "      <td>Not Sports</td>\n",
       "    </tr>\n",
       "    <tr>\n",
       "      <th>2</th>\n",
       "      <td>foolball is the famous game</td>\n",
       "      <td>Sports</td>\n",
       "    </tr>\n",
       "    <tr>\n",
       "      <th>3</th>\n",
       "      <td>this game was not fair</td>\n",
       "      <td>Sports</td>\n",
       "    </tr>\n",
       "    <tr>\n",
       "      <th>4</th>\n",
       "      <td>caffine to code</td>\n",
       "      <td>Not Sports</td>\n",
       "    </tr>\n",
       "  </tbody>\n",
       "</table>\n",
       "</div>"
      ],
      "text/plain": [
       "                          text         tag\n",
       "0              Barca paly well      Sports\n",
       "1    Obama is great politician  Not Sports\n",
       "2  foolball is the famous game      Sports\n",
       "3       this game was not fair      Sports\n",
       "4              caffine to code  Not Sports"
      ]
     },
     "execution_count": 14,
     "metadata": {},
     "output_type": "execute_result"
    }
   ],
   "source": [
    "data"
   ]
  }
 ],
 "metadata": {
  "kernelspec": {
   "display_name": "Python 3",
   "language": "python",
   "name": "python3"
  },
  "language_info": {
   "codemirror_mode": {
    "name": "ipython",
    "version": 3
   },
   "file_extension": ".py",
   "mimetype": "text/x-python",
   "name": "python",
   "nbconvert_exporter": "python",
   "pygments_lexer": "ipython3",
   "version": "3.6.5"
  }
 },
 "nbformat": 4,
 "nbformat_minor": 2
}
